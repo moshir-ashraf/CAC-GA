{
 "cells": [
  {
   "cell_type": "code",
   "execution_count": 1,
   "metadata": {},
   "outputs": [],
   "source": [
    "import os\n",
    "import cv2\n",
    "import numpy as np"
   ]
  },
  {
   "cell_type": "code",
   "execution_count": 2,
   "metadata": {},
   "outputs": [],
   "source": [
    "def splitImg(img, p, q):\n",
    "    blocks = []\n",
    "    height , width = img.shape[:2]\n",
    "   \n",
    "    rows = width // q\n",
    "    columns = height // p\n",
    "    for column in range(columns):\n",
    "        for row in range(rows):\n",
    "                left = row * q\n",
    "                upper = column * p\n",
    "                right = left + q\n",
    "                lower = upper + p\n",
    "                block = img[upper:lower, left:right]\n",
    "                blocks.append(block)\n",
    "    return blocks"
   ]
  },
  {
   "cell_type": "code",
   "execution_count": 3,
   "metadata": {},
   "outputs": [],
   "source": [
    "def constantAreaCoding(img, p, q):    \n",
    "    blocks = splitImg(img, p, q)\n",
    "    codes = ['0','11','10']\n",
    "    code = \"\"\n",
    "    for block in blocks:\n",
    "        if np.all(block == 0):\n",
    "            code += codes[0]\n",
    "        elif np.all(block == 255):\n",
    "            code += codes[1]\n",
    "        else:\n",
    "            code += codes[2] \n",
    "            for row in block:\n",
    "                for pixel in row:\n",
    "                    if pixel == 255:\n",
    "                        code += '1' \n",
    "                    else:\n",
    "                        code += pixel.astype(str)\n",
    "    \n",
    "    compressionRatio = img.size/len(code)\n",
    "    dataRedundancy = 1 - 1/compressionRatio\n",
    "    \n",
    "    return  p ,q , img.shape[0], img.shape[1],  code , compressionRatio , dataRedundancy"
   ]
  },
  {
   "cell_type": "code",
   "execution_count": 4,
   "metadata": {},
   "outputs": [],
   "source": [
    "def constantAreaDecoding(code, p, q, height, width):\n",
    "    codes = ['0','11','10']\n",
    "    blocks = []\n",
    "    index = 0\n",
    "    while index in range(len(code)) :\n",
    "        if code[index] == codes[0]:\n",
    "            block = np.zeros((p, q), dtype=np.uint8)\n",
    "            index=index+1\n",
    "            \n",
    "        elif code[index:index+2] == codes[1]:\n",
    "            block = np.ones((p, q), dtype=np.uint8)\n",
    "            index = index+2\n",
    "            \n",
    "        elif code[index:index+2] == codes[2]: \n",
    "            index=index+2\n",
    "            block = np.zeros((p, q), dtype=np.uint8)\n",
    "            \n",
    "            for row in range(0,p):\n",
    "                for column in range(0,q):\n",
    "                    block[row][column] = int(code[index])\n",
    "                    index = index+1\n",
    "                    \n",
    "        blocks.append(block * 255)\n",
    "        \n",
    "    return blocks"
   ]
  },
  {
   "cell_type": "code",
   "execution_count": 5,
   "metadata": {},
   "outputs": [],
   "source": [
    "def imageReconstruction(code, p, q, height, width):\n",
    "    img = np.ones((height, width), dtype=np.uint8) * 255\n",
    "    blocks = constantAreaDecoding(code, p, q, height, width)    \n",
    "    x = 0\n",
    "    y = 0\n",
    "    index = 0\n",
    "  \n",
    "    while y < height:\n",
    "        while x < width:\n",
    "            block = blocks[index]\n",
    "            for row in range(p):\n",
    "                for column in range(q):\n",
    "                    img[y + row][x + column] = block[row][column]\n",
    "            index += 1\n",
    "            x += q\n",
    "        y += p\n",
    "        x = 0\n",
    "    \n",
    "    return img"
   ]
  },
  {
   "cell_type": "code",
   "execution_count": 6,
   "metadata": {},
   "outputs": [],
   "source": [
    "def populate(height, width, generations):\n",
    "    population = []\n",
    "    while len(population) < generations:\n",
    "        \n",
    "        p = np.random.randint(1,  height)\n",
    "        q = np.random.randint(1,  width)\n",
    "        if height % p == 0 and width % q == 0: population.append([p,q])\n",
    "            \n",
    "    return population"
   ]
  },
  {
   "cell_type": "code",
   "execution_count": 7,
   "metadata": {},
   "outputs": [],
   "source": [
    "def fitness(img, population):\n",
    "    \n",
    "    fitness = []\n",
    "    for chromosome in population:\n",
    "            fitness.append(constantAreaCoding(img, chromosome[0], chromosome[1])[5])\n",
    "            \n",
    "    population , fitness = zip(*sorted(zip(population, fitness), key=lambda x: x[1], reverse=True))\n",
    "    return list(population),list(fitness)\n"
   ]
  },
  {
   "cell_type": "code",
   "execution_count": 8,
   "metadata": {},
   "outputs": [],
   "source": [
    "def binarize(pBits, qBits, chromosome):\n",
    "    p, q = chromosome\n",
    "    p = format(p, f'0{pBits}b')\n",
    "    q = format(q, f'0{qBits}b')\n",
    "    return p + q "
   ]
  },
  {
   "cell_type": "code",
   "execution_count": 9,
   "metadata": {},
   "outputs": [],
   "source": [
    "def decimate(pBits, qBits, chromosome):\n",
    "    p = int(str(chromosome[:pBits]),2)\n",
    "    q = int(str(chromosome[pBits:]),2)\n",
    "    return [p,q]    "
   ]
  },
  {
   "cell_type": "code",
   "execution_count": 10,
   "metadata": {},
   "outputs": [],
   "source": [
    "def crossover(parents):\n",
    "    crossoverPoint = np.random.randint(0,len(parents[0]))\n",
    "    children = []\n",
    "    children.append(parents[0][:crossoverPoint] + parents[1][crossoverPoint:])\n",
    "    children.append(parents[1][:crossoverPoint] + parents[0][crossoverPoint:])\n",
    "    return children"
   ]
  },
  {
   "cell_type": "code",
   "execution_count": 11,
   "metadata": {},
   "outputs": [],
   "source": [
    "def mutate(chromosome,mutationProbability):\n",
    "    if np.random.random() >= mutationProbability:\n",
    "        mutationPoint = np.random.randint(0,len(chromosome))\n",
    "        chromosome = str(chromosome[:mutationPoint]) + str(1-int(chromosome[mutationPoint])) + str(chromosome[mutationPoint+1:])\n",
    "    return chromosome"
   ]
  },
  {
   "cell_type": "code",
   "execution_count": 12,
   "metadata": {},
   "outputs": [],
   "source": [
    "def Genetic(img, generations, mutationProbability):\n",
    "    height, width = img.shape\n",
    "    pBits = len(bin(height)[2:]) \n",
    "    qBits = len(bin(width)[2:])\n",
    "    population = populate(height, width, generations)\n",
    "    population, fitnesses = fitness(img, population)\n",
    "    bestCompressionRatio = 0\n",
    "    bestBlockSizes = None\n",
    "    while bestCompressionRatio != fitnesses[0]:\n",
    "        for generation in range(0, int(generations / 2), 2):\n",
    "            children = crossover( [ \n",
    "                                  binarize(pBits,qBits,population[generation]), \n",
    "                                  binarize(pBits,qBits,population[generation + 1]) \n",
    "                                  ] )\n",
    "            population.append(decimate(pBits, qBits, mutate(children[0], mutationProbability)))\n",
    "            population.append(decimate(pBits, qBits, mutate(children[1], mutationProbability)))\n",
    "        population, fitnesses = fitness(img, population)\n",
    "        population = population[:generations]\n",
    "        fitnesses = fitnesses[:generations]\n",
    "        if fitnesses[0] > bestCompressionRatio :\n",
    "            bestCompressionRatio = fitnesses[0]\n",
    "            bestBlockSizes = population[0]\n",
    "            \n",
    "    print(f'Best size : {bestBlockSizes[0]} * {bestBlockSizes[1]}') \n",
    "    print(f'Best CR: {bestCompressionRatio}')\n",
    "    \n",
    "    return bestBlockSizes, bestCompressionRatio"
   ]
  },
  {
   "cell_type": "code",
   "execution_count": 13,
   "metadata": {},
   "outputs": [],
   "source": [
    "def saveCompressedImage(compression, index):\n",
    "    p, q, height, width, code = compression\n",
    "    with open(f'images/compressed{i}', 'w') as file:\n",
    "        file.write(f'p x q: {p} x {q}\\n')\n",
    "        file.write(f'height: {height}\\n')\n",
    "        file.write(f'width: {width}\\n')\n",
    "        file.write(f'CAC: {code}\\n')"
   ]
  },
  {
   "cell_type": "code",
   "execution_count": 14,
   "metadata": {},
   "outputs": [],
   "source": [
    "def loadCompressionElements(compressedFile):\n",
    "    compression = {}\n",
    "    with open(f'images/{compressedFile}', 'r') as file:\n",
    "        lines = file.readlines()\n",
    "        for line in lines:\n",
    "            key, value = line.strip().split(': ')\n",
    "            compression[key] = value\n",
    "    \n",
    "    p, q = map(int, compression['p x q'].split(' x '))\n",
    "    height = int(compression['height'])\n",
    "    width = int(compression['width'])\n",
    "    code = compression['CAC']\n",
    "    \n",
    "    return p, q, height, width, code"
   ]
  },
  {
   "cell_type": "code",
   "execution_count": 15,
   "metadata": {},
   "outputs": [
    {
     "name": "stdout",
     "output_type": "stream",
     "text": [
      "Best size : 1 * 80\n",
      "Best CR: 4.742386117136659\n",
      "Best size : 7 * 32\n",
      "Best CR: 4.470692165491518\n"
     ]
    }
   ],
   "source": [
    "images = [file for file in os.listdir('images') if file.endswith(\".jpg\")]\n",
    "for image, i in zip(images, range(len(images))):\n",
    "    img = cv2.imread(f'images/{image}')\n",
    "    cv2.namedWindow('Original Image', cv2.WINDOW_NORMAL)\n",
    "    cv2.imshow('Original Image', img)\n",
    "    cv2.waitKey(0)\n",
    "    cv2.destroyAllWindows()\n",
    "    gray = cv2.cvtColor(img, cv2.COLOR_BGR2GRAY)\n",
    "    binaryImg = cv2.threshold(gray, 0, 255, cv2.THRESH_BINARY + cv2.THRESH_OTSU)[1]\n",
    "    (p,q) , cR = Genetic(binaryImg, 5, 0.4)\n",
    "    compression = constantAreaCoding(binaryImg, p, q)[:5]\n",
    "    saveCompressedImage(compression, i)\n",
    "\n",
    "compressed = [file for file in os.listdir('images') if file.startswith(\"compressed\")]\n",
    "for file in compressed:\n",
    "    p, q, height, width, code = loadCompressionElements(file)\n",
    "    img = imageReconstruction(code, p, q, height, width)\n",
    "    cv2.imshow('DeCompressed Binary img', img)\n",
    "    cv2.waitKey(0)\n",
    "    cv2.destroyAllWindows()"
   ]
  }
 ],
 "metadata": {
  "kernelspec": {
   "display_name": "Python 3",
   "language": "python",
   "name": "python3"
  },
  "language_info": {
   "codemirror_mode": {
    "name": "ipython",
    "version": 3
   },
   "file_extension": ".py",
   "mimetype": "text/x-python",
   "name": "python",
   "nbconvert_exporter": "python",
   "pygments_lexer": "ipython3",
   "version": "3.11.9"
  }
 },
 "nbformat": 4,
 "nbformat_minor": 2
}
